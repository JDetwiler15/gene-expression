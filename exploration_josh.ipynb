{
 "cells": [
  {
   "cell_type": "code",
   "execution_count": null,
   "metadata": {},
   "outputs": [],
   "source": [
    "import matplotlib.pyplot as plt\n",
    "import networkx as nx\n",
    "import pandas as pd"
   ]
  },
  {
   "cell_type": "code",
   "execution_count": null,
   "metadata": {},
   "outputs": [],
   "source": [
    "# Create a Pandas DataFrame. This is what it looks like.\n",
    "df = pd.read_csv(\"./data/2018-05-02-human-ppi-weighted-cap0_75.txt\", sep=\"\\t\")\n",
    "df.head(n=2)"
   ]
  },
  {
   "cell_type": "code",
   "execution_count": null,
   "metadata": {},
   "outputs": [],
   "source": [
    "def graph_stats(graph, extras=False):\n",
    "    print(\"Number of vertices: %d\" % graph.number_of_nodes())\n",
    "    print(\"Number of edges:    %d\" % graph.number_of_edges())\n",
    "    if extras:\n",
    "        print(\"ACC:                %f\" % nx.average_clustering(graph, weight=\"edge_weight\"))\n",
    "        print(\"ASPL:               %f\" % nx.average_shortest_path_length(graph, weight=\"edge_weight\"))"
   ]
  },
  {
   "cell_type": "code",
   "execution_count": null,
   "metadata": {},
   "outputs": [],
   "source": [
    "# Create a directed, weighted graph directly from the table. \n",
    "# Compare stats to what Jeffrey Law sent us: 16613 vertices and 562267 edges.\n",
    "dG = nx.from_pandas_edgelist(df, \"tail\", \"head\", \"edge_weight\", nx.DiGraph)\n",
    "graph_stats(dG)"
   ]
  },
  {
   "cell_type": "code",
   "execution_count": null,
   "metadata": {},
   "outputs": [],
   "source": [
    "# Remove edges that are unidirectional and make an undirected graph.\n",
    "# Jeffrey said he had 277246 edges here. Just rolling with the punches.\n",
    "uG = dG.to_undirected(reciprocal=True)  # \"reciprocal\" ignores edges not going both ways\n",
    "graph_stats(uG)"
   ]
  },
  {
   "cell_type": "code",
   "execution_count": null,
   "metadata": {},
   "outputs": [],
   "source": [
    "# This is the degree distribution among vertices (generally).\n",
    "# This says that basically all 16000 vertices have deg < 500.\n",
    "# Maybe worth thresholding > 250 (approximately)?\n",
    "df.groupby(\"tail\").apply(len).hist(bins=20, log=True)\n",
    "plt.show()"
   ]
  },
  {
   "cell_type": "code",
   "execution_count": null,
   "metadata": {},
   "outputs": [],
   "source": [
    "# Count tail nodes, sort by highest degree, and threshold them arbitrarily.\n",
    "# This list of high degree nodes will be used to filter out dense data in the plot.\n",
    "source_counts = df.groupby(\"tail\").apply(len).sort_values(ascending=False)\n",
    "source_counts = source_counts[(source_counts <= 200)]\n",
    "drop_nodes = list(source_counts.index)\n",
    "uG.remove_nodes_from(drop_nodes)\n",
    "print(\"Just dropped %d nodes from the graph!\" % len(drop_nodes))"
   ]
  },
  {
   "cell_type": "code",
   "execution_count": null,
   "metadata": {},
   "outputs": [],
   "source": [
    "# Nothing is working...\n",
    "nx.draw_spring(uG)"
   ]
  },
  {
   "cell_type": "code",
   "execution_count": null,
   "metadata": {},
   "outputs": [],
   "source": []
  }
 ],
 "metadata": {
  "kernelspec": {
   "display_name": "Python 3",
   "language": "python",
   "name": "python3"
  },
  "language_info": {
   "codemirror_mode": {
    "name": "ipython",
    "version": 3
   },
   "file_extension": ".py",
   "mimetype": "text/x-python",
   "name": "python",
   "nbconvert_exporter": "python",
   "pygments_lexer": "ipython3",
   "version": "3.7.3"
  }
 },
 "nbformat": 4,
 "nbformat_minor": 2
}
